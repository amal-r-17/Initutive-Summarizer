{
 "cells": [
  {
   "cell_type": "markdown",
   "metadata": {},
   "source": [
    "# Text Summarizer"
   ]
  },
  {
   "cell_type": "markdown",
   "metadata": {},
   "source": [
    "## Working of the function created"
   ]
  },
  {
   "cell_type": "markdown",
   "metadata": {},
   "source": [
    "1. A function is created to do the task of text summarization.\n",
    "1. The function takes a passage as input.\n",
    "1. The passage is then convereted into a list of sentences.\n",
    "1. Then each of the sentences are preproceesed. \n",
    "1. The preprocessing involves removing everything apart from alphabets, coverting into lowercase, removing stop words, Stemmimg words using PorterStemmer.\n",
    "1. A corpus is created which is a list of these preprocessed sentence.\n",
    "1. This corpus is vectorised using BagofWords(CountVectorizer) or TF-IDF(TfidfVectorizer)\n",
    "1. A matrix is obtained that has a number of rows equal to the number of sentences in the passages.\n",
    "1. The row wise sum of the vector is found out.\n",
    "1. A score for each sentences is found out. Importanat sentences will have a higher score.\n",
    "1. The 30% percent of of the highest scoring sentences are taken.\n",
    "1. These are combined to make the summary of the passage.\n",
    "\n",
    "#### Here the summarization is done using the help of NLTK library"
   ]
  },
  {
   "cell_type": "markdown",
   "metadata": {},
   "source": [
    "# Importing the necessary libraries"
   ]
  },
  {
   "cell_type": "code",
   "execution_count": 1,
   "metadata": {},
   "outputs": [],
   "source": [
    "import numpy as np\n",
    "import pandas as pd\n",
    "import nltk\n",
    "from nltk.corpus import stopwords\n",
    "from nltk.stem.porter import PorterStemmer\n",
    "import re\n",
    "from sklearn.feature_extraction.text import CountVectorizer,TfidfVectorizer"
   ]
  },
  {
   "cell_type": "markdown",
   "metadata": {},
   "source": [
    "# Defining the Functions"
   ]
  },
  {
   "cell_type": "markdown",
   "metadata": {},
   "source": [
    "## Using TF-IDF(TfidfVectorizer)\n"
   ]
  },
  {
   "cell_type": "code",
   "execution_count": 4,
   "metadata": {},
   "outputs": [],
   "source": [
    "def Find_summary_tfidf():\n",
    "    # Taking in the input passage\n",
    "    passage = input(\"Enter the passage you want to summarize: \")\n",
    "    sentences = nltk.sent_tokenize(passage)\n",
    "    n = len(sentences)\n",
    "    ps = PorterStemmer() #Creating an instance of the porter stemmer.\n",
    "    \n",
    "    #preprocessing\n",
    "    corpus = []\n",
    "    for i in range(len(sentences)):\n",
    "        sent = re.sub('[^a-zA-Z0-9]', \" \", sentences[i])\n",
    "        sent = sent.lower()\n",
    "        sent = nltk.word_tokenize(sent)\n",
    "        sent = [ps.stem(word) for word in sent if word not in set(stopwords.words(\"english\"))]\n",
    "        corpus.append(\" \".join(sent))\n",
    "    \n",
    "    #Bag of words\n",
    "    tf = TfidfVectorizer()\n",
    "    # Vectoring the corpus\n",
    "    x = tf.fit_transform(corpus).toarray()\n",
    "    # Finding the score of each sentences\n",
    "    scored_sentences = list(x.sum(axis = 1))\n",
    "    temp_score = list(scored_sentences.copy())\n",
    "    temp_score.sort(reverse=True)\n",
    "    \n",
    "    #selelcting important 3 sentenses\n",
    "    indexs = []# to store indexes\n",
    "    for i in range(int(.3 * n)):\n",
    "        # getting the indexes of the highest scoring sentences.\n",
    "        indexs.append(scored_sentences.index(temp_score[i]))\n",
    "    \n",
    "    # Sorting in order of appearance in the passage\n",
    "    indexs.sort()\n",
    "    summary = [sentences[i] for i in indexs]\n",
    "    final_summary = \" \".join(summary)# joining the sentences to form summary\n",
    "    \n",
    "    # Printing the summary\n",
    "    print(\"________________________________\")\n",
    "    print(\"Number of sentences in passage :\", len(sentences))\n",
    "    print(\"Number of sentences in Summary :\", len(summary))\n",
    "\n",
    "\n",
    "    print(\"\\nThe Summary :\\n\")\n",
    "    print(final_summary)\n",
    "    \n",
    "    return    "
   ]
  },
  {
   "cell_type": "markdown",
   "metadata": {},
   "source": [
    "## Testing on a News Article\n"
   ]
  },
  {
   "cell_type": "code",
   "execution_count": 6,
   "metadata": {},
   "outputs": [
    {
     "name": "stdout",
     "output_type": "stream",
     "text": [
      "Enter the passage you want to summarize: The propriety M1 Chip from Apple has already made its way to a number of the company’s products. This includes MacBooks, iMacs, iMac mini, and even the iPad Pro. Now, a new report has found that the iPad Pro with the company’s silicon has an irreparable security flaw. According to developer Hector Martin (Via PhoneArena), the M1 based iPad Pro suffers from a vulnerability that exists on a hardware level of the M1. In other words, this is an issue that cannot be fixed through a simple software update. The Cupertino based giant has apparently violated an Arm architecture specification requirement as well. This means that there is no simple method of fixing the issue.  The developer further explained that the flaw basically allows two applications to covertly exchange data without using normal operating system features. While this is a vulnerability, it, fortunately, does not pose any serious security risks. Even in a worst case scenario this security risk would only enable advertisers for cross app tracking and can not be used by hackers to take control of one’s device or even steal sensitive information. Although, the flaw still violates the OS security model. Furthermore, this issue affects every M1 device, which means it could even affect the iPhone 12 series as well since the A14 Bionic is based on the same CPU microarchitecture. The developer said that the only way of fixing this is to run the entire operating system as a virtual machine (VM). But that is not exactly a feasible repair to the issue. Hector believes that the flaw could even affect the next generation M1X chipset as well, but will be fixed in the following generation in the future.\n",
      "________________________________\n",
      "Number of sentences in passage : 15\n",
      "Number of sentences in Summary : 4\n",
      "\n",
      "The Summary :\n",
      "\n",
      "According to developer Hector Martin (Via PhoneArena), the M1 based iPad Pro suffers from a vulnerability that exists on a hardware level of the M1. The developer further explained that the flaw basically allows two applications to covertly exchange data without using normal operating system features. Even in a worst case scenario this security risk would only enable advertisers for cross app tracking and can not be used by hackers to take control of one’s device or even steal sensitive information. Furthermore, this issue affects every M1 device, which means it could even affect the iPhone 12 series as well since the A14 Bionic is based on the same CPU microarchitecture.\n"
     ]
    }
   ],
   "source": [
    "Find_summary_tfidf()"
   ]
  },
  {
   "cell_type": "code",
   "execution_count": null,
   "metadata": {},
   "outputs": [],
   "source": []
  },
  {
   "cell_type": "markdown",
   "metadata": {},
   "source": [
    "## Using BagofWords (CountVectorizer)"
   ]
  },
  {
   "cell_type": "code",
   "execution_count": 2,
   "metadata": {},
   "outputs": [],
   "source": [
    "def Find_summary_BoW():\n",
    "    # Taking in the input passage\n",
    "    passage = input(\"Enter the passage you want to summarize: \")\n",
    "    sentences = nltk.sent_tokenize(passage)\n",
    "    n = len(sentences)\n",
    "    ps = PorterStemmer() #Creating an instance of the porter stemmer.\n",
    "    \n",
    "    #preprocessing\n",
    "    corpus = []\n",
    "    for i in range(len(sentences)):\n",
    "        sent = re.sub('[^a-zA-Z0-9]', \" \", sentences[i])\n",
    "        sent = sent.lower()\n",
    "        sent = nltk.word_tokenize(sent)\n",
    "        sent = [ps.stem(word) for word in sent if word not in set(stopwords.words(\"english\"))]\n",
    "        corpus.append(\" \".join(sent))\n",
    "    \n",
    "    #Bag of words\n",
    "    cv = CountVectorizer()\n",
    "    # Vectoring the corpus\n",
    "    x = cv.fit_transform(corpus).toarray()\n",
    "    # Finding the score of each sentences\n",
    "    scored_sentences = list(x.sum(axis = 1))\n",
    "    temp_score = list(scored_sentences.copy())\n",
    "    temp_score.sort(reverse=True)\n",
    "    \n",
    "    #selelcting important 3 sentenses\n",
    "    indexs = []# to store indexes\n",
    "    for i in range(int(.3 * n)):\n",
    "        # getting the indexes of the highest scoring sentences.\n",
    "        indexs.append(scored_sentences.index(temp_score[i]))\n",
    "    \n",
    "    # Sorting in order of appearance in the passage\n",
    "    indexs.sort()\n",
    "    summary = [sentences[i] for i in indexs]\n",
    "    final_summary = \" \".join(summary)# joining the sentences to form summary\n",
    "    \n",
    "    # Printing the summary\n",
    "    print(\"________________________________\")\n",
    "    print(\"Number of sentences in passage :\", len(sentences))\n",
    "    print(\"Number of sentences in Summary :\", len(summary))\n",
    "\n",
    "\n",
    "    print(\"\\nThe Summary :\\n\")\n",
    "    print(final_summary)\n",
    "    \n",
    "    return    "
   ]
  },
  {
   "cell_type": "markdown",
   "metadata": {},
   "source": [
    "## Testing on a News Article"
   ]
  },
  {
   "cell_type": "code",
   "execution_count": 3,
   "metadata": {
    "scrolled": false
   },
   "outputs": [
    {
     "name": "stdout",
     "output_type": "stream",
     "text": [
      "Enter the passage you want to summarize: The propriety M1 Chip from Apple has already made its way to a number of the company’s products. This includes MacBooks, iMacs, iMac mini, and even the iPad Pro. Now, a new report has found that the iPad Pro with the company’s silicon has an irreparable security flaw. According to developer Hector Martin (Via PhoneArena), the M1 based iPad Pro suffers from a vulnerability that exists on a hardware level of the M1. In other words, this is an issue that cannot be fixed through a simple software update. The Cupertino based giant has apparently violated an Arm architecture specification requirement as well. This means that there is no simple method of fixing the issue.  The developer further explained that the flaw basically allows two applications to covertly exchange data without using normal operating system features. While this is a vulnerability, it, fortunately, does not pose any serious security risks. Even in a worst case scenario this security risk would only enable advertisers for cross app tracking and can not be used by hackers to take control of one’s device or even steal sensitive information. Although, the flaw still violates the OS security model. Furthermore, this issue affects every M1 device, which means it could even affect the iPhone 12 series as well since the A14 Bionic is based on the same CPU microarchitecture. The developer said that the only way of fixing this is to run the entire operating system as a virtual machine (VM). But that is not exactly a feasible repair to the issue. Hector believes that the flaw could even affect the next generation M1X chipset as well, but will be fixed in the following generation in the future.\n",
      "________________________________\n",
      "Number of sentences in passage : 15\n",
      "Number of sentences in Summary : 4\n",
      "\n",
      "The Summary :\n",
      "\n",
      "According to developer Hector Martin (Via PhoneArena), the M1 based iPad Pro suffers from a vulnerability that exists on a hardware level of the M1. According to developer Hector Martin (Via PhoneArena), the M1 based iPad Pro suffers from a vulnerability that exists on a hardware level of the M1. Even in a worst case scenario this security risk would only enable advertisers for cross app tracking and can not be used by hackers to take control of one’s device or even steal sensitive information. Furthermore, this issue affects every M1 device, which means it could even affect the iPhone 12 series as well since the A14 Bionic is based on the same CPU microarchitecture.\n"
     ]
    }
   ],
   "source": [
    "Find_summary_BoW()"
   ]
  },
  {
   "cell_type": "code",
   "execution_count": null,
   "metadata": {},
   "outputs": [],
   "source": []
  }
 ],
 "metadata": {
  "kernelspec": {
   "display_name": "Python 3",
   "language": "python",
   "name": "python3"
  },
  "language_info": {
   "codemirror_mode": {
    "name": "ipython",
    "version": 3
   },
   "file_extension": ".py",
   "mimetype": "text/x-python",
   "name": "python",
   "nbconvert_exporter": "python",
   "pygments_lexer": "ipython3",
   "version": "3.8.3"
  }
 },
 "nbformat": 4,
 "nbformat_minor": 4
}
